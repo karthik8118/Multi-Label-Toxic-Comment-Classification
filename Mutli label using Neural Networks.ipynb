{
 "cells": [
  {
   "cell_type": "code",
   "execution_count": 1,
   "id": "04e6712d",
   "metadata": {},
   "outputs": [],
   "source": [
    "import pandas as pd\n",
    "import numpy as np\n",
    "from  matplotlib import pyplot as plt\n",
    "from sklearn.feature_extraction.text import TfidfVectorizer\n",
    "from sklearn.metrics import f1_score\n",
    "from sklearn.model_selection import train_test_split\n",
    "import warnings\n",
    "warnings.filterwarnings('ignore')"
   ]
  },
  {
   "cell_type": "code",
   "execution_count": 2,
   "id": "18e8ac7d",
   "metadata": {},
   "outputs": [],
   "source": [
    "import nltk\n",
    "from nltk.corpus import stopwords\n",
    "from nltk.stem import WordNetLemmatizer\n",
    "import re\n",
    "import keras"
   ]
  },
  {
   "cell_type": "code",
   "execution_count": 3,
   "id": "2536c476",
   "metadata": {},
   "outputs": [],
   "source": [
    "final_data=pd.read_csv('final_toxic.csv')\n",
    "final_data=final_data.sample(frac=1)"
   ]
  },
  {
   "cell_type": "code",
   "execution_count": 4,
   "id": "d56aaac9",
   "metadata": {},
   "outputs": [
    {
     "data": {
      "text/html": [
       "<div>\n",
       "<style scoped>\n",
       "    .dataframe tbody tr th:only-of-type {\n",
       "        vertical-align: middle;\n",
       "    }\n",
       "\n",
       "    .dataframe tbody tr th {\n",
       "        vertical-align: top;\n",
       "    }\n",
       "\n",
       "    .dataframe thead th {\n",
       "        text-align: right;\n",
       "    }\n",
       "</style>\n",
       "<table border=\"1\" class=\"dataframe\">\n",
       "  <thead>\n",
       "    <tr style=\"text-align: right;\">\n",
       "      <th></th>\n",
       "      <th>Unnamed: 0</th>\n",
       "      <th>id</th>\n",
       "      <th>comment_text</th>\n",
       "      <th>toxic</th>\n",
       "      <th>severe_toxic</th>\n",
       "      <th>obscene</th>\n",
       "      <th>threat</th>\n",
       "      <th>insult</th>\n",
       "      <th>identity_hate</th>\n",
       "    </tr>\n",
       "  </thead>\n",
       "  <tbody>\n",
       "    <tr>\n",
       "      <th>71146</th>\n",
       "      <td>71146</td>\n",
       "      <td>be70bc1270ce5811</td>\n",
       "      <td>arrested protesting place time ban protesting ...</td>\n",
       "      <td>0</td>\n",
       "      <td>0</td>\n",
       "      <td>0</td>\n",
       "      <td>0</td>\n",
       "      <td>0</td>\n",
       "      <td>0</td>\n",
       "    </tr>\n",
       "    <tr>\n",
       "      <th>16346</th>\n",
       "      <td>16346</td>\n",
       "      <td>2b177c45fd01adb1</td>\n",
       "      <td>mergingreorganising other tv page please take ...</td>\n",
       "      <td>0</td>\n",
       "      <td>0</td>\n",
       "      <td>0</td>\n",
       "      <td>0</td>\n",
       "      <td>0</td>\n",
       "      <td>0</td>\n",
       "    </tr>\n",
       "    <tr>\n",
       "      <th>18165</th>\n",
       "      <td>18165</td>\n",
       "      <td>2fff5fb4791a343e</td>\n",
       "      <td>thinking it doughnut not fact make canary beco...</td>\n",
       "      <td>0</td>\n",
       "      <td>0</td>\n",
       "      <td>0</td>\n",
       "      <td>0</td>\n",
       "      <td>0</td>\n",
       "      <td>0</td>\n",
       "    </tr>\n",
       "    <tr>\n",
       "      <th>138689</th>\n",
       "      <td>138689</td>\n",
       "      <td>e610dcce30e70d38</td>\n",
       "      <td>wow drama queen dont grow a pair learn write p...</td>\n",
       "      <td>0</td>\n",
       "      <td>0</td>\n",
       "      <td>0</td>\n",
       "      <td>0</td>\n",
       "      <td>0</td>\n",
       "      <td>0</td>\n",
       "    </tr>\n",
       "    <tr>\n",
       "      <th>72097</th>\n",
       "      <td>72097</td>\n",
       "      <td>c101155d0d862543</td>\n",
       "      <td>rename eswikibooks done left note too regard</td>\n",
       "      <td>0</td>\n",
       "      <td>0</td>\n",
       "      <td>0</td>\n",
       "      <td>0</td>\n",
       "      <td>0</td>\n",
       "      <td>0</td>\n",
       "    </tr>\n",
       "  </tbody>\n",
       "</table>\n",
       "</div>"
      ],
      "text/plain": [
       "        Unnamed: 0                id  \\\n",
       "71146        71146  be70bc1270ce5811   \n",
       "16346        16346  2b177c45fd01adb1   \n",
       "18165        18165  2fff5fb4791a343e   \n",
       "138689      138689  e610dcce30e70d38   \n",
       "72097        72097  c101155d0d862543   \n",
       "\n",
       "                                             comment_text  toxic  \\\n",
       "71146   arrested protesting place time ban protesting ...      0   \n",
       "16346   mergingreorganising other tv page please take ...      0   \n",
       "18165   thinking it doughnut not fact make canary beco...      0   \n",
       "138689  wow drama queen dont grow a pair learn write p...      0   \n",
       "72097        rename eswikibooks done left note too regard      0   \n",
       "\n",
       "        severe_toxic  obscene  threat  insult  identity_hate  \n",
       "71146              0        0       0       0              0  \n",
       "16346              0        0       0       0              0  \n",
       "18165              0        0       0       0              0  \n",
       "138689             0        0       0       0              0  \n",
       "72097              0        0       0       0              0  "
      ]
     },
     "execution_count": 4,
     "metadata": {},
     "output_type": "execute_result"
    }
   ],
   "source": [
    "final_data.head()"
   ]
  },
  {
   "cell_type": "code",
   "execution_count": 5,
   "id": "d3aa1b4f",
   "metadata": {},
   "outputs": [
    {
     "data": {
      "text/plain": [
       "(159571, 9)"
      ]
     },
     "execution_count": 5,
     "metadata": {},
     "output_type": "execute_result"
    }
   ],
   "source": [
    "final_data.shape"
   ]
  },
  {
   "cell_type": "code",
   "execution_count": 6,
   "id": "14f76976",
   "metadata": {},
   "outputs": [],
   "source": [
    "final_data.dropna(inplace=True)\n",
    "final_data.drop_duplicates(inplace=True)"
   ]
  },
  {
   "cell_type": "code",
   "execution_count": 7,
   "id": "6cbe6eff",
   "metadata": {},
   "outputs": [
    {
     "data": {
      "text/plain": [
       "(159505, 9)"
      ]
     },
     "execution_count": 7,
     "metadata": {},
     "output_type": "execute_result"
    }
   ],
   "source": [
    "final_data.shape"
   ]
  },
  {
   "cell_type": "code",
   "execution_count": 8,
   "id": "c592c799",
   "metadata": {},
   "outputs": [],
   "source": [
    "value=final_data.iloc[:,2:].sum(axis=1)"
   ]
  },
  {
   "cell_type": "code",
   "execution_count": 9,
   "id": "6ac97c11",
   "metadata": {},
   "outputs": [],
   "source": [
    "labels_count=value.value_counts()"
   ]
  },
  {
   "cell_type": "code",
   "execution_count": 10,
   "id": "cb2c1e89",
   "metadata": {},
   "outputs": [],
   "source": [
    "labels_count=labels_count.iloc[1:]"
   ]
  },
  {
   "cell_type": "markdown",
   "id": "7cb109ad",
   "metadata": {},
   "source": [
    "# TF-IDF "
   ]
  },
  {
   "cell_type": "code",
   "execution_count": 11,
   "id": "def80192",
   "metadata": {},
   "outputs": [],
   "source": [
    "vectorizer=TfidfVectorizer(max_features=10000)\n",
    "vectors=vectorizer.fit_transform(final_data['comment_text'])"
   ]
  },
  {
   "cell_type": "code",
   "execution_count": 12,
   "id": "84e657b6",
   "metadata": {},
   "outputs": [],
   "source": [
    "X=vectors.toarray()"
   ]
  },
  {
   "cell_type": "code",
   "execution_count": 13,
   "id": "8410ba82",
   "metadata": {},
   "outputs": [],
   "source": [
    "X_train,X_test,Y_train,Y_test=train_test_split(X,final_data.iloc[:,3:],test_size=0.3)"
   ]
  },
  {
   "cell_type": "markdown",
   "id": "9c1e57d8",
   "metadata": {},
   "source": [
    "# Model Building"
   ]
  },
  {
   "cell_type": "code",
   "execution_count": 14,
   "id": "e112cb1e",
   "metadata": {},
   "outputs": [],
   "source": [
    "import tensorflow\n",
    "from tensorflow.keras.layers import Dense\n",
    "from tensorflow.keras import Sequential\n",
    "from tensorflow.keras.activations import relu,sigmoid\n",
    "from tensorflow.keras.losses import BinaryCrossentropy\n",
    "from tensorflow.keras.optimizers import Adam\n",
    "from tensorflow.keras.layers import Dropout\n",
    "import tensorflow_addons as tfa\n",
    "from tensorflow.keras.callbacks import EarlyStopping"
   ]
  },
  {
   "cell_type": "code",
   "execution_count": 15,
   "id": "4da75119",
   "metadata": {},
   "outputs": [],
   "source": [
    "early_stopping = EarlyStopping()"
   ]
  },
  {
   "cell_type": "code",
   "execution_count": 16,
   "id": "4cf1aeb2",
   "metadata": {},
   "outputs": [],
   "source": [
    "model=Sequential()\n",
    "model.add(Dense(units=128,activation=relu,kernel_regularizer=tensorflow.keras.regularizers.L2(l2=0.001),\n",
    "            bias_regularizer=tensorflow.keras.regularizers.L2(l2=0.001)))\n",
    "model.add(Dropout(0.4))\n",
    "model.add(Dense(units=64,activation=relu,kernel_regularizer=tensorflow.keras.regularizers.L2(l2=0.001),\n",
    "            bias_regularizer=tensorflow.keras.regularizers.L2(l2=0.001)))\n",
    "model.add(Dropout(0.4))\n",
    "model.add(Dense(units=32,activation=relu,kernel_regularizer=tensorflow.keras.regularizers.L2(l2=0.001),\n",
    "            bias_regularizer=tensorflow.keras.regularizers.L2(l2=0.001)))\n",
    "model.add(Dropout(0.4))\n",
    "model.add(Dense(units=6,activation=sigmoid,kernel_regularizer=tensorflow.keras.regularizers.L2(l2=0.001),\n",
    "            bias_regularizer=tensorflow.keras.regularizers.L2(l2=0.001)))"
   ]
  },
  {
   "cell_type": "code",
   "execution_count": 17,
   "id": "056bea00",
   "metadata": {},
   "outputs": [],
   "source": [
    "model.compile(optimizer=Adam(learning_rate=0.001),loss=BinaryCrossentropy(),metrics=['binary_accuracy'])"
   ]
  },
  {
   "cell_type": "code",
   "execution_count": 18,
   "id": "c0175bad",
   "metadata": {},
   "outputs": [],
   "source": [
    "es = EarlyStopping(monitor='val_loss',patience=3)"
   ]
  },
  {
   "cell_type": "code",
   "execution_count": 19,
   "id": "e8b789a7",
   "metadata": {
    "scrolled": false
   },
   "outputs": [
    {
     "name": "stdout",
     "output_type": "stream",
     "text": [
      "Epoch 1/10\n",
      "3490/3490 [==============================] - 111s 30ms/step - loss: 0.1556 - binary_accuracy: 0.9682 - val_loss: 0.1342 - val_binary_accuracy: 0.9751\n",
      "Epoch 2/10\n",
      "3490/3490 [==============================] - 89s 26ms/step - loss: 0.1412 - binary_accuracy: 0.9756 - val_loss: 0.1326 - val_binary_accuracy: 0.9771\n",
      "Epoch 3/10\n",
      "3490/3490 [==============================] - 82s 24ms/step - loss: 0.1407 - binary_accuracy: 0.9761 - val_loss: 0.1352 - val_binary_accuracy: 0.9743\n",
      "Epoch 4/10\n",
      "3490/3490 [==============================] - 82s 23ms/step - loss: 0.1405 - binary_accuracy: 0.9759 - val_loss: 0.1338 - val_binary_accuracy: 0.9753\n",
      "Epoch 5/10\n",
      "3490/3490 [==============================] - 73s 21ms/step - loss: 0.1400 - binary_accuracy: 0.9759 - val_loss: 0.1336 - val_binary_accuracy: 0.9770\n"
     ]
    }
   ],
   "source": [
    "final_model=model.fit(X_train,Y_train,validation_data=[X_test,Y_test],epochs=10,callbacks=[es],shuffle=True)"
   ]
  },
  {
   "cell_type": "code",
   "execution_count": 20,
   "id": "652cb815",
   "metadata": {},
   "outputs": [
    {
     "name": "stdout",
     "output_type": "stream",
     "text": [
      "Model: \"sequential\"\n",
      "_________________________________________________________________\n",
      " Layer (type)                Output Shape              Param #   \n",
      "=================================================================\n",
      " dense (Dense)               (None, 128)               1280128   \n",
      "                                                                 \n",
      " dropout (Dropout)           (None, 128)               0         \n",
      "                                                                 \n",
      " dense_1 (Dense)             (None, 64)                8256      \n",
      "                                                                 \n",
      " dropout_1 (Dropout)         (None, 64)                0         \n",
      "                                                                 \n",
      " dense_2 (Dense)             (None, 32)                2080      \n",
      "                                                                 \n",
      " dropout_2 (Dropout)         (None, 32)                0         \n",
      "                                                                 \n",
      " dense_3 (Dense)             (None, 6)                 198       \n",
      "                                                                 \n",
      "=================================================================\n",
      "Total params: 1,290,662\n",
      "Trainable params: 1,290,662\n",
      "Non-trainable params: 0\n",
      "_________________________________________________________________\n",
      "None\n"
     ]
    }
   ],
   "source": [
    "print(model.summary())"
   ]
  },
  {
   "cell_type": "code",
   "execution_count": 21,
   "id": "7144adcf",
   "metadata": {},
   "outputs": [],
   "source": [
    "from tensorflow.keras.utils import plot_model"
   ]
  },
  {
   "cell_type": "code",
   "execution_count": 22,
   "id": "8626cce8",
   "metadata": {},
   "outputs": [
    {
     "data": {
      "image/png": "[encoded data removed]",
      "text/plain": [
       "<IPython.core.display.Image object>"
      ]
     },
     "execution_count": 22,
     "metadata": {},
     "output_type": "execute_result"
    }
   ],
   "source": [
    "plot_model(model, to_file='graph.png', show_shapes=True)"
   ]
  },
  {
   "cell_type": "code",
   "execution_count": 23,
   "id": "e7323337",
   "metadata": {},
   "outputs": [
    {
     "name": "stdout",
     "output_type": "stream",
     "text": [
      "1496/1496 [==============================] - 6s 4ms/step - loss: 0.1336 - binary_accuracy: 0.9770\n"
     ]
    },
    {
     "data": {
      "text/plain": [
       "[0.13356778025627136, 0.9769700765609741]"
      ]
     },
     "execution_count": 23,
     "metadata": {},
     "output_type": "execute_result"
    }
   ],
   "source": [
    "model.evaluate(X_test,Y_test)"
   ]
  },
  {
   "cell_type": "code",
   "execution_count": 24,
   "id": "b28bfb62",
   "metadata": {
    "scrolled": true
   },
   "outputs": [
    {
     "name": "stdout",
     "output_type": "stream",
     "text": [
      "1496/1496 [==============================] - 5s 3ms/step\n"
     ]
    }
   ],
   "source": [
    "y_predicted=model.predict(X_test)"
   ]
  },
  {
   "cell_type": "markdown",
   "id": "5eafe95a",
   "metadata": {},
   "source": [
    "# Model evaluation"
   ]
  },
  {
   "cell_type": "code",
   "execution_count": 25,
   "id": "2aeb51a4",
   "metadata": {},
   "outputs": [],
   "source": [
    "for i in range(len(y_predicted)):\n",
    "    for j in range(5):\n",
    "        if y_predicted[i][j]>=0.2:\n",
    "            y_predicted[i][j]=1\n",
    "        else:\n",
    "            y_predicted[i][j]=0"
   ]
  },
  {
   "cell_type": "code",
   "execution_count": 33,
   "id": "5f509e84",
   "metadata": {},
   "outputs": [],
   "source": [
    "metric = tfa.metrics.F1Score(num_classes=6,average='weighted')\n",
    "metric.update_state(np.array(Y_test),y_predicted)\n",
    "result =(metric.result())"
   ]
  },
  {
   "cell_type": "code",
   "execution_count": 34,
   "id": "b01894cc",
   "metadata": {},
   "outputs": [
    {
     "data": {
      "text/plain": [
       "<tf.Tensor: shape=(), dtype=float32, numpy=0.65559816>"
      ]
     },
     "execution_count": 34,
     "metadata": {},
     "output_type": "execute_result"
    }
   ],
   "source": [
    "result"
   ]
  },
  {
   "cell_type": "code",
   "execution_count": 29,
   "id": "3b55b902",
   "metadata": {},
   "outputs": [
    {
     "name": "stdout",
     "output_type": "stream",
     "text": [
      "The weighted f1 score is :65.559814453125\n"
     ]
    }
   ],
   "source": [
    "print(f'The weighted f1 score is :{result}')"
   ]
  },
  {
   "cell_type": "code",
   "execution_count": 32,
   "id": "7e110077",
   "metadata": {},
   "outputs": [],
   "source": [
    "p=vectorizer.transform([''])\n",
    "p=p.toarray()"
   ]
  },
  {
   "cell_type": "code",
   "execution_count": 31,
   "id": "71cf1c8f",
   "metadata": {},
   "outputs": [
    {
     "name": "stdout",
     "output_type": "stream",
     "text": [
      "1/1 [==============================] - 0s 16ms/step\n"
     ]
    },
    {
     "data": {
      "text/plain": [
       "array([[0.16314468, 0.01878412, 0.0730066 , 0.01519888, 0.06512617,\n",
       "        0.01899926]], dtype=float32)"
      ]
     },
     "execution_count": 31,
     "metadata": {},
     "output_type": "execute_result"
    }
   ],
   "source": [
    "model.predict(p)"
   ]
  }
 ],
 "metadata": {
  "kernelspec": {
   "display_name": "Python 3 (ipykernel)",
   "language": "python",
   "name": "python3"
  },
  "language_info": {
   "codemirror_mode": {
    "name": "ipython",
    "version": 3
   },
   "file_extension": ".py",
   "mimetype": "text/x-python",
   "name": "python",
   "nbconvert_exporter": "python",
   "pygments_lexer": "ipython3",
   "version": "3.9.12"
  },
  "widgets": {
   "application/vnd.jupyter.widget-state+json": {
    "state": {},
    "version_major": 2,
    "version_minor": 0
   }
  }
 },
 "nbformat": 4,
 "nbformat_minor": 5
}
