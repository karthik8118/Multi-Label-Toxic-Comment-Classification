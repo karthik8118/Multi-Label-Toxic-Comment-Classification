{
 "cells": [
  {
   "cell_type": "code",
   "execution_count": 1,
   "id": "04e6712d",
   "metadata": {},
   "outputs": [],
   "source": [
    "import pandas as pd\n",
    "import numpy as np\n",
    "from  matplotlib import pyplot as plt\n",
    "from sklearn.feature_extraction.text import TfidfVectorizer\n",
    "from sklearn.metrics import f1_score\n",
    "from sklearn import model_selection"
   ]
  },
  {
   "cell_type": "code",
   "execution_count": 2,
   "id": "18e8ac7d",
   "metadata": {},
   "outputs": [],
   "source": [
    "import nltk\n",
    "from nltk.corpus import stopwords\n",
    "from nltk.stem import WordNetLemmatizer\n",
    "import re"
   ]
  },
  {
   "cell_type": "code",
   "execution_count": 3,
   "id": "2536c476",
   "metadata": {},
   "outputs": [],
   "source": [
    "final_data=pd.read_csv('final_toxic.csv')"
   ]
  },
  {
   "cell_type": "code",
   "execution_count": 4,
   "id": "d56aaac9",
   "metadata": {},
   "outputs": [
    {
     "data": {
      "text/html": [
       "<div>\n",
       "<style scoped>\n",
       "    .dataframe tbody tr th:only-of-type {\n",
       "        vertical-align: middle;\n",
       "    }\n",
       "\n",
       "    .dataframe tbody tr th {\n",
       "        vertical-align: top;\n",
       "    }\n",
       "\n",
       "    .dataframe thead th {\n",
       "        text-align: right;\n",
       "    }\n",
       "</style>\n",
       "<table border=\"1\" class=\"dataframe\">\n",
       "  <thead>\n",
       "    <tr style=\"text-align: right;\">\n",
       "      <th></th>\n",
       "      <th>Unnamed: 0</th>\n",
       "      <th>id</th>\n",
       "      <th>comment_text</th>\n",
       "      <th>toxic</th>\n",
       "      <th>severe_toxic</th>\n",
       "      <th>obscene</th>\n",
       "      <th>threat</th>\n",
       "      <th>insult</th>\n",
       "      <th>identity_hate</th>\n",
       "    </tr>\n",
       "  </thead>\n",
       "  <tbody>\n",
       "    <tr>\n",
       "      <th>0</th>\n",
       "      <td>0</td>\n",
       "      <td>0000997932d777bf</td>\n",
       "      <td>explanation edits made my username hardcore me...</td>\n",
       "      <td>0</td>\n",
       "      <td>0</td>\n",
       "      <td>0</td>\n",
       "      <td>0</td>\n",
       "      <td>0</td>\n",
       "      <td>0</td>\n",
       "    </tr>\n",
       "    <tr>\n",
       "      <th>1</th>\n",
       "      <td>1</td>\n",
       "      <td>000103f0d9cfb60f</td>\n",
       "      <td>daww match background colour im seemingly stuc...</td>\n",
       "      <td>0</td>\n",
       "      <td>0</td>\n",
       "      <td>0</td>\n",
       "      <td>0</td>\n",
       "      <td>0</td>\n",
       "      <td>0</td>\n",
       "    </tr>\n",
       "    <tr>\n",
       "      <th>2</th>\n",
       "      <td>2</td>\n",
       "      <td>000113f07ec002fd</td>\n",
       "      <td>hey man im really trying edit war just this gu...</td>\n",
       "      <td>0</td>\n",
       "      <td>0</td>\n",
       "      <td>0</td>\n",
       "      <td>0</td>\n",
       "      <td>0</td>\n",
       "      <td>0</td>\n",
       "    </tr>\n",
       "    <tr>\n",
       "      <th>3</th>\n",
       "      <td>3</td>\n",
       "      <td>0001b41b1c6bb37e</td>\n",
       "      <td>cant make real suggestion improvement wondered...</td>\n",
       "      <td>0</td>\n",
       "      <td>0</td>\n",
       "      <td>0</td>\n",
       "      <td>0</td>\n",
       "      <td>0</td>\n",
       "      <td>0</td>\n",
       "    </tr>\n",
       "    <tr>\n",
       "      <th>4</th>\n",
       "      <td>4</td>\n",
       "      <td>0001d958c54c6e35</td>\n",
       "      <td>sir my hero chance remember page thats</td>\n",
       "      <td>0</td>\n",
       "      <td>0</td>\n",
       "      <td>0</td>\n",
       "      <td>0</td>\n",
       "      <td>0</td>\n",
       "      <td>0</td>\n",
       "    </tr>\n",
       "  </tbody>\n",
       "</table>\n",
       "</div>"
      ],
      "text/plain": [
       "   Unnamed: 0                id  \\\n",
       "0           0  0000997932d777bf   \n",
       "1           1  000103f0d9cfb60f   \n",
       "2           2  000113f07ec002fd   \n",
       "3           3  0001b41b1c6bb37e   \n",
       "4           4  0001d958c54c6e35   \n",
       "\n",
       "                                        comment_text  toxic  severe_toxic  \\\n",
       "0  explanation edits made my username hardcore me...      0             0   \n",
       "1  daww match background colour im seemingly stuc...      0             0   \n",
       "2  hey man im really trying edit war just this gu...      0             0   \n",
       "3  cant make real suggestion improvement wondered...      0             0   \n",
       "4             sir my hero chance remember page thats      0             0   \n",
       "\n",
       "   obscene  threat  insult  identity_hate  \n",
       "0        0       0       0              0  \n",
       "1        0       0       0              0  \n",
       "2        0       0       0              0  \n",
       "3        0       0       0              0  \n",
       "4        0       0       0              0  "
      ]
     },
     "execution_count": 4,
     "metadata": {},
     "output_type": "execute_result"
    }
   ],
   "source": [
    "final_data.head()"
   ]
  },
  {
   "cell_type": "code",
   "execution_count": 5,
   "id": "d3aa1b4f",
   "metadata": {},
   "outputs": [
    {
     "data": {
      "text/plain": [
       "(159571, 9)"
      ]
     },
     "execution_count": 5,
     "metadata": {},
     "output_type": "execute_result"
    }
   ],
   "source": [
    "final_data.shape"
   ]
  },
  {
   "cell_type": "code",
   "execution_count": 6,
   "id": "14f76976",
   "metadata": {},
   "outputs": [],
   "source": [
    "final_data.dropna(inplace=True)\n",
    "final_data.drop_duplicates(inplace=True)"
   ]
  },
  {
   "cell_type": "code",
   "execution_count": 7,
   "id": "6cbe6eff",
   "metadata": {},
   "outputs": [
    {
     "data": {
      "text/plain": [
       "(159505, 9)"
      ]
     },
     "execution_count": 7,
     "metadata": {},
     "output_type": "execute_result"
    }
   ],
   "source": [
    "final_data.shape"
   ]
  },
  {
   "cell_type": "markdown",
   "id": "61e2b089",
   "metadata": {},
   "source": [
    "# Exploratory Data Analysis (EDA):"
   ]
  },
  {
   "cell_type": "markdown",
   "id": "f12d1088",
   "metadata": {},
   "source": [
    "Counting number of comments in each label"
   ]
  },
  {
   "cell_type": "code",
   "execution_count": 8,
   "id": "abc90ebc",
   "metadata": {},
   "outputs": [],
   "source": [
    "columns=list(final_data.columns[3:])"
   ]
  },
  {
   "cell_type": "code",
   "execution_count": 9,
   "id": "0d4d957e",
   "metadata": {},
   "outputs": [],
   "source": [
    "values=list(final_data.iloc[:,3:].sum().values)"
   ]
  },
  {
   "cell_type": "code",
   "execution_count": 10,
   "id": "e30bd958",
   "metadata": {},
   "outputs": [
    {
     "data": {
      "image/png": "[encoded data removed]",
      "text/plain": [
       "<Figure size 432x288 with 1 Axes>"
      ]
     },
     "metadata": {
      "needs_background": "light"
     },
     "output_type": "display_data"
    }
   ],
   "source": [
    "c = ['red', 'yellow', 'black', 'blue', 'orange','green']\n",
    "plt.bar(columns,values,color=c)\n",
    "plt.title('count of comments in each category')\n",
    "plt.xlabel('category')\n",
    "plt.ylabel('count')\n",
    "plt.savefig('plot.png')\n",
    "plt.show()"
   ]
  },
  {
   "cell_type": "markdown",
   "id": "4d20c500",
   "metadata": {},
   "source": [
    "counting number of comments which belongs to multiple label"
   ]
  },
  {
   "cell_type": "code",
   "execution_count": 11,
   "id": "c592c799",
   "metadata": {},
   "outputs": [
    {
     "name": "stderr",
     "output_type": "stream",
     "text": [
      "C:\\Users\\MY  PC\\AppData\\Local\\Temp\\ipykernel_3312\\3964306647.py:1: FutureWarning: Dropping of nuisance columns in DataFrame reductions (with 'numeric_only=None') is deprecated; in a future version this will raise TypeError.  Select only valid columns before calling the reduction.\n",
      "  value=final_data.iloc[:,2:].sum(axis=1)\n"
     ]
    }
   ],
   "source": [
    "value=final_data.iloc[:,2:].sum(axis=1)"
   ]
  },
  {
   "cell_type": "code",
   "execution_count": 12,
   "id": "6ac97c11",
   "metadata": {},
   "outputs": [],
   "source": [
    "labels_count=value.value_counts()"
   ]
  },
  {
   "cell_type": "code",
   "execution_count": 13,
   "id": "cb2c1e89",
   "metadata": {},
   "outputs": [],
   "source": [
    "labels_count=labels_count.iloc[1:]"
   ]
  },
  {
   "cell_type": "code",
   "execution_count": 14,
   "id": "e16d3e3b",
   "metadata": {},
   "outputs": [
    {
     "name": "stdout",
     "output_type": "stream",
     "text": [
      "Int64Index([1, 3, 2, 4, 5, 6], dtype='int64')\n"
     ]
    }
   ],
   "source": [
    "print(labels_count.index)"
   ]
  },
  {
   "cell_type": "code",
   "execution_count": 15,
   "id": "7bfa120a",
   "metadata": {},
   "outputs": [
    {
     "data": {
      "image/png": "[encoded data removed]",
      "text/plain": [
       "<Figure size 432x288 with 1 Axes>"
      ]
     },
     "metadata": {
      "needs_background": "light"
     },
     "output_type": "display_data"
    }
   ],
   "source": [
    "c = ['red', 'yellow', 'black', 'blue', 'orange','green']\n",
    "plt.bar(labels_count.index,labels_count,color=c)\n",
    "plt.title('count of comments in each category')\n",
    "plt.xlabel('category')\n",
    "plt.ylabel('count')\n",
    "plt.show()"
   ]
  },
  {
   "cell_type": "markdown",
   "id": "7cb109ad",
   "metadata": {},
   "source": [
    "# TF-IDF "
   ]
  },
  {
   "cell_type": "code",
   "execution_count": 16,
   "id": "3b77c3d9",
   "metadata": {},
   "outputs": [],
   "source": [
    "from sklearn import model_selection,preprocessing\n",
    "from sklearn.metrics import accuracy_score"
   ]
  },
  {
   "cell_type": "code",
   "execution_count": 17,
   "id": "def80192",
   "metadata": {},
   "outputs": [],
   "source": [
    "vectorizer=TfidfVectorizer(max_features=10000)\n",
    "vectors=vectorizer.fit_transform(final_data['comment_text'])"
   ]
  },
  {
   "cell_type": "code",
   "execution_count": 18,
   "id": "a962434f",
   "metadata": {},
   "outputs": [
    {
     "name": "stdout",
     "output_type": "stream",
     "text": [
      "(159505, 10000)\n"
     ]
    }
   ],
   "source": [
    "print(vectors.shape)"
   ]
  },
  {
   "cell_type": "code",
   "execution_count": 19,
   "id": "46f1a2e4",
   "metadata": {},
   "outputs": [],
   "source": [
    "X_train,X_test,Y_train,Y_test=model_selection.train_test_split(vectors,final_data.iloc[:,3:],test_size=0.3)"
   ]
  },
  {
   "cell_type": "markdown",
   "id": "9c1e57d8",
   "metadata": {},
   "source": [
    "# Model Building"
   ]
  },
  {
   "cell_type": "markdown",
   "id": "4f8facfa",
   "metadata": {},
   "source": [
    "# Model1- Using Chain Classifier Logistic Regression"
   ]
  },
  {
   "cell_type": "code",
   "execution_count": 20,
   "id": "ee2b31d3",
   "metadata": {},
   "outputs": [],
   "source": [
    "from sklearn.linear_model import LogisticRegression\n",
    "from sklearn.metrics import classification_report\n",
    "from sklearn.metrics import multilabel_confusion_matrix\n",
    "from skmultilearn.problem_transform import ClassifierChain\n",
    "from sklearn.multioutput import ClassifierChain"
   ]
  },
  {
   "cell_type": "code",
   "execution_count": 21,
   "id": "6358143a",
   "metadata": {},
   "outputs": [
    {
     "data": {
      "text/plain": [
       "ClassifierChain(base_estimator=LogisticRegression(max_iter=1000))"
      ]
     },
     "execution_count": 21,
     "metadata": {},
     "output_type": "execute_result"
    }
   ],
   "source": [
    "model1=ClassifierChain(LogisticRegression(max_iter=1000))\n",
    "model1.fit(X_train,Y_train)"
   ]
  },
  {
   "cell_type": "code",
   "execution_count": 22,
   "id": "7e2b5291",
   "metadata": {},
   "outputs": [
    {
     "data": {
      "text/plain": [
       "0.9190420463094542"
      ]
     },
     "execution_count": 22,
     "metadata": {},
     "output_type": "execute_result"
    }
   ],
   "source": [
    "accuracy_score(model1.predict(X_test),Y_test)"
   ]
  },
  {
   "cell_type": "code",
   "execution_count": 23,
   "id": "9e004ed9",
   "metadata": {},
   "outputs": [
    {
     "name": "stdout",
     "output_type": "stream",
     "text": [
      "               precision    recall  f1-score   support\n",
      "\n",
      "        toxic       0.60      0.91      0.72      3033\n",
      " severe_toxic       0.16      0.55      0.25       139\n",
      "      obscene       0.68      0.89      0.77      1971\n",
      "       threat       0.12      0.72      0.20        25\n",
      "       insult       0.62      0.74      0.67      1963\n",
      "identity_hate       0.19      0.74      0.31       110\n",
      "\n",
      "    micro avg       0.58      0.85      0.69      7241\n",
      "    macro avg       0.39      0.76      0.49      7241\n",
      " weighted avg       0.61      0.85      0.70      7241\n",
      "  samples avg       0.05      0.05      0.05      7241\n",
      "\n"
     ]
    }
   ],
   "source": [
    "print(classification_report(model1.predict(X_test),Y_test,target_names=columns,zero_division=0))"
   ]
  },
  {
   "cell_type": "markdown",
   "id": "08771979",
   "metadata": {},
   "source": [
    "#  Model2-Using  LabelPowerset Logistic Regression"
   ]
  },
  {
   "cell_type": "code",
   "execution_count": 24,
   "id": "765762aa",
   "metadata": {},
   "outputs": [],
   "source": [
    "from skmultilearn.problem_transform import LabelPowerset"
   ]
  },
  {
   "cell_type": "code",
   "execution_count": 25,
   "id": "16eb46c3",
   "metadata": {},
   "outputs": [
    {
     "data": {
      "text/plain": [
       "LabelPowerset(classifier=LogisticRegression(max_iter=1000),\n",
       "              require_dense=[True, True])"
      ]
     },
     "execution_count": 25,
     "metadata": {},
     "output_type": "execute_result"
    }
   ],
   "source": [
    "model2=LabelPowerset(LogisticRegression(max_iter=1000))\n",
    "model2.fit(X_train,Y_train)"
   ]
  },
  {
   "cell_type": "code",
   "execution_count": 26,
   "id": "9bc6917d",
   "metadata": {},
   "outputs": [
    {
     "data": {
      "text/plain": [
       "0.9170776561063279"
      ]
     },
     "execution_count": 26,
     "metadata": {},
     "output_type": "execute_result"
    }
   ],
   "source": [
    "accuracy_score(model2.predict(X_test),Y_test)"
   ]
  },
  {
   "cell_type": "code",
   "execution_count": 27,
   "id": "82fb0fd7",
   "metadata": {},
   "outputs": [
    {
     "name": "stdout",
     "output_type": "stream",
     "text": [
      "               precision    recall  f1-score   support\n",
      "\n",
      "        toxic       0.53      0.93      0.67      2635\n",
      " severe_toxic       0.11      0.51      0.18       106\n",
      "      obscene       0.59      0.91      0.72      1668\n",
      "       threat       0.05      0.70      0.09        10\n",
      "       insult       0.53      0.80      0.64      1586\n",
      "identity_hate       0.15      0.74      0.25        86\n",
      "\n",
      "    micro avg       0.50      0.88      0.64      6091\n",
      "    macro avg       0.33      0.76      0.43      6091\n",
      " weighted avg       0.53      0.88      0.66      6091\n",
      "  samples avg       0.04      0.05      0.04      6091\n",
      "\n"
     ]
    }
   ],
   "source": [
    "print(classification_report(model2.predict(X_test),Y_test,target_names=columns,zero_division=0))"
   ]
  },
  {
   "cell_type": "markdown",
   "id": "b9d7a764",
   "metadata": {},
   "source": [
    "# Model3- Using Binary Relavance Logistic Regression"
   ]
  },
  {
   "cell_type": "code",
   "execution_count": 28,
   "id": "68670513",
   "metadata": {},
   "outputs": [],
   "source": [
    "from skmultilearn.problem_transform import BinaryRelevance"
   ]
  },
  {
   "cell_type": "code",
   "execution_count": 29,
   "id": "75de2ed8",
   "metadata": {},
   "outputs": [
    {
     "data": {
      "text/plain": [
       "BinaryRelevance(classifier=LogisticRegression(max_iter=1000),\n",
       "                require_dense=[True, True])"
      ]
     },
     "execution_count": 29,
     "metadata": {},
     "output_type": "execute_result"
    }
   ],
   "source": [
    "model3=BinaryRelevance(LogisticRegression(max_iter=1000))\n",
    "model3.fit(X_train,Y_train)"
   ]
  },
  {
   "cell_type": "code",
   "execution_count": 30,
   "id": "a3c2a381",
   "metadata": {},
   "outputs": [
    {
     "data": {
      "text/plain": [
       "0.9176627936136421"
      ]
     },
     "execution_count": 30,
     "metadata": {},
     "output_type": "execute_result"
    }
   ],
   "source": [
    "accuracy_score(model3.predict(X_test),Y_test)"
   ]
  },
  {
   "cell_type": "code",
   "execution_count": 31,
   "id": "b7588ddc",
   "metadata": {},
   "outputs": [
    {
     "name": "stdout",
     "output_type": "stream",
     "text": [
      "               precision    recall  f1-score   support\n",
      "\n",
      "        toxic       0.60      0.91      0.72      3033\n",
      " severe_toxic       0.20      0.54      0.29       173\n",
      "      obscene       0.63      0.92      0.75      1740\n",
      "       threat       0.11      0.70      0.18        23\n",
      "       insult       0.52      0.83      0.64      1495\n",
      "identity_hate       0.18      0.73      0.29       105\n",
      "\n",
      "    micro avg       0.55      0.88      0.67      6569\n",
      "    macro avg       0.37      0.77      0.48      6569\n",
      " weighted avg       0.57      0.88      0.69      6569\n",
      "  samples avg       0.05      0.05      0.05      6569\n",
      "\n"
     ]
    }
   ],
   "source": [
    "print(classification_report(model3.predict(X_test),Y_test,target_names=columns,zero_division=0))"
   ]
  },
  {
   "cell_type": "markdown",
   "id": "5f15458a",
   "metadata": {},
   "source": [
    "# 4.Model-Classifier Chain Method using NaiveBayes"
   ]
  },
  {
   "cell_type": "code",
   "execution_count": 32,
   "id": "fd30ee04",
   "metadata": {},
   "outputs": [],
   "source": [
    "from sklearn.naive_bayes import MultinomialNB\n",
    "from sklearn.multioutput import MultiOutputClassifier"
   ]
  },
  {
   "cell_type": "code",
   "execution_count": 33,
   "id": "270a4eb2",
   "metadata": {},
   "outputs": [
    {
     "data": {
      "text/plain": [
       "ClassifierChain(base_estimator=MultinomialNB())"
      ]
     },
     "execution_count": 33,
     "metadata": {},
     "output_type": "execute_result"
    }
   ],
   "source": [
    "model4=ClassifierChain(MultinomialNB())\n",
    "model4.fit(X_train,Y_train)"
   ]
  },
  {
   "cell_type": "code",
   "execution_count": 34,
   "id": "ce15dee9",
   "metadata": {},
   "outputs": [
    {
     "data": {
      "text/plain": [
       "0.9076527626849452"
      ]
     },
     "execution_count": 34,
     "metadata": {},
     "output_type": "execute_result"
    }
   ],
   "source": [
    "accuracy_score(model4.predict(X_test),Y_test)"
   ]
  },
  {
   "cell_type": "code",
   "execution_count": 35,
   "id": "6198efb1",
   "metadata": {},
   "outputs": [
    {
     "name": "stdout",
     "output_type": "stream",
     "text": [
      "               precision    recall  f1-score   support\n",
      "\n",
      "        toxic       0.49      0.93      0.64      2408\n",
      " severe_toxic       0.23      0.52      0.32       211\n",
      "      obscene       0.69      0.75      0.72      2329\n",
      "       threat       0.00      0.00      0.00         6\n",
      "       insult       0.68      0.69      0.68      2329\n",
      "identity_hate       0.54      0.20      0.29      1113\n",
      "\n",
      "    micro avg       0.56      0.71      0.63      8396\n",
      "    macro avg       0.44      0.52      0.44      8396\n",
      " weighted avg       0.59      0.71      0.62      8396\n",
      "  samples avg       0.04      0.04      0.04      8396\n",
      "\n"
     ]
    }
   ],
   "source": [
    "print(classification_report(model4.predict(X_test),Y_test,target_names=columns,zero_division=0))"
   ]
  },
  {
   "cell_type": "markdown",
   "id": "6bee9fe6",
   "metadata": {},
   "source": [
    "# Model5-  LabelPowerset Using  NaiveBayes"
   ]
  },
  {
   "cell_type": "code",
   "execution_count": 36,
   "id": "67b65a64",
   "metadata": {},
   "outputs": [
    {
     "data": {
      "text/plain": [
       "LabelPowerset(classifier=MultinomialNB(), require_dense=[True, True])"
      ]
     },
     "execution_count": 36,
     "metadata": {},
     "output_type": "execute_result"
    }
   ],
   "source": [
    "model5=LabelPowerset(MultinomialNB())\n",
    "model5.fit(X_train,Y_train)"
   ]
  },
  {
   "cell_type": "code",
   "execution_count": 37,
   "id": "d27f7f94",
   "metadata": {},
   "outputs": [
    {
     "data": {
      "text/plain": [
       "0.906670567583382"
      ]
     },
     "execution_count": 37,
     "metadata": {},
     "output_type": "execute_result"
    }
   ],
   "source": [
    "accuracy_score(model5.predict(X_test),Y_test)"
   ]
  },
  {
   "cell_type": "code",
   "execution_count": 38,
   "id": "17d4be73",
   "metadata": {},
   "outputs": [
    {
     "name": "stdout",
     "output_type": "stream",
     "text": [
      "               precision    recall  f1-score   support\n",
      "\n",
      "        toxic       0.26      0.99      0.41      1209\n",
      " severe_toxic       0.00      0.00      0.00         0\n",
      "      obscene       0.38      0.95      0.54      1026\n",
      "       threat       0.00      0.00      0.00         0\n",
      "       insult       0.37      0.85      0.52      1026\n",
      "identity_hate       0.00      0.00      0.00         0\n",
      "\n",
      "    micro avg       0.29      0.93      0.44      3261\n",
      "    macro avg       0.17      0.46      0.24      3261\n",
      " weighted avg       0.33      0.93      0.48      3261\n",
      "  samples avg       0.02      0.02      0.02      3261\n",
      "\n"
     ]
    }
   ],
   "source": [
    "print(classification_report(model5.predict(X_test),Y_test,target_names=columns,zero_division=0))"
   ]
  },
  {
   "cell_type": "markdown",
   "id": "5bba9a9d",
   "metadata": {},
   "source": [
    "# Model6- BinaryRelevance using  NaiveBayes"
   ]
  },
  {
   "cell_type": "code",
   "execution_count": 39,
   "id": "fb49cb1a",
   "metadata": {},
   "outputs": [
    {
     "data": {
      "text/plain": [
       "BinaryRelevance(classifier=MultinomialNB(), require_dense=[True, True])"
      ]
     },
     "execution_count": 39,
     "metadata": {},
     "output_type": "execute_result"
    }
   ],
   "source": [
    "model6=BinaryRelevance(MultinomialNB())\n",
    "model6.fit(X_train,Y_train)"
   ]
  },
  {
   "cell_type": "code",
   "execution_count": 40,
   "id": "5bb35efc",
   "metadata": {},
   "outputs": [
    {
     "data": {
      "text/plain": [
       "0.9104530636128062"
      ]
     },
     "execution_count": 40,
     "metadata": {},
     "output_type": "execute_result"
    }
   ],
   "source": [
    "accuracy_score(model6.predict(X_test),Y_test)"
   ]
  },
  {
   "cell_type": "code",
   "execution_count": 41,
   "id": "78254dba",
   "metadata": {},
   "outputs": [
    {
     "name": "stdout",
     "output_type": "stream",
     "text": [
      "               precision    recall  f1-score   support\n",
      "\n",
      "        toxic       0.49      0.93      0.64      2408\n",
      " severe_toxic       0.07      0.64      0.13        53\n",
      "      obscene       0.49      0.91      0.64      1387\n",
      "       threat       0.00      0.00      0.00         0\n",
      "       insult       0.41      0.85      0.55      1145\n",
      "identity_hate       0.02      0.37      0.03        19\n",
      "\n",
      "    micro avg       0.43      0.90      0.58      5012\n",
      "    macro avg       0.25      0.62      0.33      5012\n",
      " weighted avg       0.46      0.90      0.61      5012\n",
      "  samples avg       0.03      0.05      0.04      5012\n",
      "\n"
     ]
    }
   ],
   "source": [
    "print(classification_report(model6.predict(X_test),Y_test,target_names=columns,zero_division=0))"
   ]
  },
  {
   "cell_type": "markdown",
   "id": "725fe0e7",
   "metadata": {},
   "source": [
    "# Model7- Using ChainClassifier SVM"
   ]
  },
  {
   "cell_type": "code",
   "execution_count": 42,
   "id": "cb23357a",
   "metadata": {},
   "outputs": [],
   "source": [
    "from sklearn.svm import LinearSVC"
   ]
  },
  {
   "cell_type": "code",
   "execution_count": 43,
   "id": "ec918d16",
   "metadata": {},
   "outputs": [],
   "source": [
    "model7=ClassifierChain(LinearSVC())"
   ]
  },
  {
   "cell_type": "code",
   "execution_count": 44,
   "id": "3f32711b",
   "metadata": {},
   "outputs": [
    {
     "data": {
      "text/plain": [
       "ClassifierChain(base_estimator=LinearSVC())"
      ]
     },
     "execution_count": 44,
     "metadata": {},
     "output_type": "execute_result"
    }
   ],
   "source": [
    "model7.fit(X_train,Y_train)"
   ]
  },
  {
   "cell_type": "code",
   "execution_count": 45,
   "id": "19e1d337",
   "metadata": {},
   "outputs": [
    {
     "data": {
      "text/plain": [
       "0.9177881802223522"
      ]
     },
     "execution_count": 45,
     "metadata": {},
     "output_type": "execute_result"
    }
   ],
   "source": [
    "accuracy_score(model7.predict(X_test),Y_test)"
   ]
  },
  {
   "cell_type": "code",
   "execution_count": 46,
   "id": "a8b797c8",
   "metadata": {},
   "outputs": [
    {
     "name": "stdout",
     "output_type": "stream",
     "text": [
      "               precision    recall  f1-score   support\n",
      "\n",
      "        toxic       0.67      0.86      0.75      3629\n",
      " severe_toxic       0.23      0.54      0.32       203\n",
      "      obscene       0.72      0.85      0.78      2149\n",
      "       threat       0.21      0.64      0.32        50\n",
      "       insult       0.63      0.73      0.67      2040\n",
      "identity_hate       0.29      0.62      0.39       192\n",
      "\n",
      "    micro avg       0.63      0.81      0.71      8263\n",
      "    macro avg       0.46      0.71      0.54      8263\n",
      " weighted avg       0.65      0.81      0.72      8263\n",
      "  samples avg       0.06      0.06      0.06      8263\n",
      "\n"
     ]
    }
   ],
   "source": [
    "print(classification_report(model7.predict(X_test),Y_test,target_names=columns,zero_division=0))"
   ]
  },
  {
   "cell_type": "markdown",
   "id": "9471848b",
   "metadata": {},
   "source": [
    "# Model8- LabelPowerset using SVM"
   ]
  },
  {
   "cell_type": "code",
   "execution_count": 47,
   "id": "fe20feef",
   "metadata": {},
   "outputs": [],
   "source": [
    "model8=LabelPowerset(LinearSVC())"
   ]
  },
  {
   "cell_type": "code",
   "execution_count": 48,
   "id": "2822db19",
   "metadata": {},
   "outputs": [
    {
     "data": {
      "text/plain": [
       "LabelPowerset(classifier=LinearSVC(), require_dense=[True, True])"
      ]
     },
     "execution_count": 48,
     "metadata": {},
     "output_type": "execute_result"
    }
   ],
   "source": [
    "model8.fit(X_train,Y_train)"
   ]
  },
  {
   "cell_type": "code",
   "execution_count": 49,
   "id": "54621f94",
   "metadata": {},
   "outputs": [
    {
     "data": {
      "text/plain": [
       "0.9165343141352503"
      ]
     },
     "execution_count": 49,
     "metadata": {},
     "output_type": "execute_result"
    }
   ],
   "source": [
    "accuracy_score(model8.predict(X_test),Y_test)"
   ]
  },
  {
   "cell_type": "code",
   "execution_count": 50,
   "id": "e48a6654",
   "metadata": {},
   "outputs": [
    {
     "name": "stdout",
     "output_type": "stream",
     "text": [
      "               precision    recall  f1-score   support\n",
      "\n",
      "        toxic       0.59      0.91      0.72      2990\n",
      " severe_toxic       0.13      0.31      0.18       196\n",
      "      obscene       0.65      0.86      0.74      1941\n",
      "       threat       0.20      0.65      0.30        46\n",
      "       insult       0.57      0.75      0.65      1798\n",
      "identity_hate       0.22      0.57      0.32       163\n",
      "\n",
      "    micro avg       0.56      0.83      0.67      7134\n",
      "    macro avg       0.39      0.68      0.49      7134\n",
      " weighted avg       0.58      0.83      0.68      7134\n",
      "  samples avg       0.05      0.05      0.05      7134\n",
      "\n"
     ]
    }
   ],
   "source": [
    "print(classification_report(model8.predict(X_test),Y_test,target_names=columns,zero_division=0))"
   ]
  },
  {
   "cell_type": "markdown",
   "id": "03cc61d9",
   "metadata": {},
   "source": [
    "# Model9-BinaryRelevance using SVM"
   ]
  },
  {
   "cell_type": "code",
   "execution_count": 51,
   "id": "ac6f807f",
   "metadata": {},
   "outputs": [],
   "source": [
    "model9=BinaryRelevance(LinearSVC())"
   ]
  },
  {
   "cell_type": "code",
   "execution_count": 52,
   "id": "ba528e88",
   "metadata": {},
   "outputs": [
    {
     "data": {
      "text/plain": [
       "BinaryRelevance(classifier=LinearSVC(), require_dense=[True, True])"
      ]
     },
     "execution_count": 52,
     "metadata": {},
     "output_type": "execute_result"
    }
   ],
   "source": [
    "model9.fit(X_train,Y_train)"
   ]
  },
  {
   "cell_type": "code",
   "execution_count": 53,
   "id": "8a1e4b08",
   "metadata": {},
   "outputs": [
    {
     "name": "stdout",
     "output_type": "stream",
     "text": [
      "               precision    recall  f1-score   support\n",
      "\n",
      "        toxic       0.67      0.86      0.75      3629\n",
      " severe_toxic       0.25      0.56      0.34       210\n",
      "      obscene       0.70      0.88      0.78      2038\n",
      "       threat       0.20      0.60      0.30        52\n",
      "       insult       0.58      0.80      0.68      1723\n",
      "identity_hate       0.27      0.66      0.39       172\n",
      "\n",
      "    micro avg       0.62      0.84      0.71      7824\n",
      "    macro avg       0.45      0.73      0.54      7824\n",
      " weighted avg       0.64      0.84      0.72      7824\n",
      "  samples avg       0.06      0.06      0.06      7824\n",
      "\n"
     ]
    }
   ],
   "source": [
    "print(classification_report(model9.predict(X_test),Y_test,target_names=columns,zero_division=0))"
   ]
  },
  {
   "cell_type": "markdown",
   "id": "d386df20",
   "metadata": {},
   "source": [
    "# 10.Model- Using Multioutput Classifier  XGBOOST(Tree ensembles)"
   ]
  },
  {
   "cell_type": "code",
   "execution_count": 54,
   "id": "1d6661c5",
   "metadata": {},
   "outputs": [],
   "source": [
    "from xgboost import XGBClassifier\n",
    "from sklearn.multioutput import MultiOutputClassifier"
   ]
  },
  {
   "cell_type": "code",
   "execution_count": 55,
   "id": "63157697",
   "metadata": {},
   "outputs": [],
   "source": [
    "model10=MultiOutputClassifier(estimator=XGBClassifier())"
   ]
  },
  {
   "cell_type": "code",
   "execution_count": 56,
   "id": "e01d4e42",
   "metadata": {},
   "outputs": [
    {
     "data": {
      "text/plain": [
       "MultiOutputClassifier(estimator=XGBClassifier(base_score=None, booster=None,\n",
       "                                              callbacks=None,\n",
       "                                              colsample_bylevel=None,\n",
       "                                              colsample_bynode=None,\n",
       "                                              colsample_bytree=None,\n",
       "                                              early_stopping_rounds=None,\n",
       "                                              enable_categorical=False,\n",
       "                                              eval_metric=None,\n",
       "                                              feature_types=None, gamma=None,\n",
       "                                              gpu_id=None, grow_policy=None,\n",
       "                                              importance_type=None,\n",
       "                                              interaction_constraints=None,\n",
       "                                              learning_rate=None, max_bin=None,\n",
       "                                              max_cat_threshold=None,\n",
       "                                              max_cat_to_onehot=None,\n",
       "                                              max_delta_step=None,\n",
       "                                              max_depth=None, max_leaves=None,\n",
       "                                              min_child_weight=None,\n",
       "                                              missing=nan,\n",
       "                                              monotone_constraints=None,\n",
       "                                              n_estimators=100, n_jobs=None,\n",
       "                                              num_parallel_tree=None,\n",
       "                                              predictor=None, random_state=None, ...))"
      ]
     },
     "execution_count": 56,
     "metadata": {},
     "output_type": "execute_result"
    }
   ],
   "source": [
    "model10.fit(X_train,Y_train)"
   ]
  },
  {
   "cell_type": "code",
   "execution_count": 57,
   "id": "085af328",
   "metadata": {},
   "outputs": [
    {
     "data": {
      "text/plain": [
       "0.9178299757585889"
      ]
     },
     "execution_count": 57,
     "metadata": {},
     "output_type": "execute_result"
    }
   ],
   "source": [
    "accuracy_score(model10.predict(X_test),Y_test)"
   ]
  },
  {
   "cell_type": "code",
   "execution_count": 58,
   "id": "6dd50488",
   "metadata": {},
   "outputs": [
    {
     "name": "stdout",
     "output_type": "stream",
     "text": [
      "               precision    recall  f1-score   support\n",
      "\n",
      "        toxic       0.59      0.90      0.72      3054\n",
      " severe_toxic       0.22      0.52      0.31       205\n",
      "      obscene       0.72      0.88      0.80      2095\n",
      "       threat       0.25      0.63      0.36        60\n",
      "       insult       0.56      0.79      0.66      1667\n",
      "identity_hate       0.27      0.63      0.38       181\n",
      "\n",
      "    micro avg       0.58      0.85      0.69      7262\n",
      "    macro avg       0.44      0.73      0.54      7262\n",
      " weighted avg       0.60      0.85      0.70      7262\n",
      "  samples avg       0.05      0.05      0.05      7262\n",
      "\n"
     ]
    }
   ],
   "source": [
    "print(classification_report(model10.predict(X_test),Y_test,target_names=columns,zero_division=0))"
   ]
  },
  {
   "cell_type": "markdown",
   "id": "51564749",
   "metadata": {},
   "source": [
    "# Predication Value"
   ]
  },
  {
   "cell_type": "code",
   "execution_count": 59,
   "id": "bad430b5",
   "metadata": {},
   "outputs": [],
   "source": [
    "lemmatizer=WordNetLemmatizer()\n",
    "stop_words=stopwords.words('english')"
   ]
  },
  {
   "cell_type": "code",
   "execution_count": 65,
   "id": "9882a756",
   "metadata": {},
   "outputs": [],
   "source": [
    "def predict_toxicity(text):\n",
    "    sentence=re.sub(r'[^\\w\\s]','',text)\n",
    "    sentence=re.sub(r'[0-9]+','',sentence)\n",
    "    sentence=nltk.word_tokenize(sentence)\n",
    "    for word in sentence:\n",
    "        if word in stop_words:\n",
    "            sentence.remove(word)\n",
    "    lst=[]\n",
    "    for word in sentence:\n",
    "        lst.append(lemmatizer.lemmatize(word))\n",
    "    lst=' '.join(lst)\n",
    "    return model7.predict(vectorizer.transform([lst]))"
   ]
  },
  {
   "cell_type": "code",
   "execution_count": 70,
   "id": "e6286d1f",
   "metadata": {},
   "outputs": [
    {
     "name": "stdout",
     "output_type": "stream",
     "text": [
      "enter a text to predict whether its toxic or non-toxic :she is a bitch she cant even cook\n"
     ]
    },
    {
     "data": {
      "text/plain": [
       "array([[1., 0., 1., 0., 1., 0.]])"
      ]
     },
     "execution_count": 70,
     "metadata": {},
     "output_type": "execute_result"
    }
   ],
   "source": [
    "text=input('enter a text to predict whether its toxic or non-toxic :')\n",
    "predict_toxicity(text)"
   ]
  }
 ],
 "metadata": {
  "kernelspec": {
   "display_name": "Python 3 (ipykernel)",
   "language": "python",
   "name": "python3"
  },
  "language_info": {
   "codemirror_mode": {
    "name": "ipython",
    "version": 3
   },
   "file_extension": ".py",
   "mimetype": "text/x-python",
   "name": "python",
   "nbconvert_exporter": "python",
   "pygments_lexer": "ipython3",
   "version": "3.9.12"
  }
 },
 "nbformat": 4,
 "nbformat_minor": 5
}
