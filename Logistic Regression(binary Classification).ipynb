{
 "cells": [
  {
   "cell_type": "code",
   "execution_count": 1,
   "id": "04e6712d",
   "metadata": {},
   "outputs": [],
   "source": [
    "import pandas as pd\n",
    "import numpy as np\n",
    "from  matplotlib import pyplot as plt\n",
    "from sklearn.feature_extraction.text import TfidfVectorizer\n",
    "from sklearn.metrics import f1_score\n",
    "from sklearn.metrics import classification_report\n",
    "import nltk\n",
    "from nltk.corpus import stopwords\n",
    "from nltk.stem import WordNetLemmatizer\n",
    "import re\n",
    "from sklearn import model_selection,preprocessing\n",
    "from sklearn.metrics import accuracy_score"
   ]
  },
  {
   "cell_type": "code",
   "execution_count": 2,
   "id": "2536c476",
   "metadata": {},
   "outputs": [],
   "source": [
    "final_data=pd.read_csv('final_toxic.csv')"
   ]
  },
  {
   "cell_type": "code",
   "execution_count": 3,
   "id": "9407b202",
   "metadata": {},
   "outputs": [
    {
     "data": {
      "text/html": [
       "<div>\n",
       "<style scoped>\n",
       "    .dataframe tbody tr th:only-of-type {\n",
       "        vertical-align: middle;\n",
       "    }\n",
       "\n",
       "    .dataframe tbody tr th {\n",
       "        vertical-align: top;\n",
       "    }\n",
       "\n",
       "    .dataframe thead th {\n",
       "        text-align: right;\n",
       "    }\n",
       "</style>\n",
       "<table border=\"1\" class=\"dataframe\">\n",
       "  <thead>\n",
       "    <tr style=\"text-align: right;\">\n",
       "      <th></th>\n",
       "      <th>Unnamed: 0</th>\n",
       "      <th>id</th>\n",
       "      <th>comment_text</th>\n",
       "      <th>toxic</th>\n",
       "      <th>severe_toxic</th>\n",
       "      <th>obscene</th>\n",
       "      <th>threat</th>\n",
       "      <th>insult</th>\n",
       "      <th>identity_hate</th>\n",
       "    </tr>\n",
       "  </thead>\n",
       "  <tbody>\n",
       "    <tr>\n",
       "      <th>0</th>\n",
       "      <td>0</td>\n",
       "      <td>0000997932d777bf</td>\n",
       "      <td>explanation edits made my username hardcore me...</td>\n",
       "      <td>0</td>\n",
       "      <td>0</td>\n",
       "      <td>0</td>\n",
       "      <td>0</td>\n",
       "      <td>0</td>\n",
       "      <td>0</td>\n",
       "    </tr>\n",
       "    <tr>\n",
       "      <th>1</th>\n",
       "      <td>1</td>\n",
       "      <td>000103f0d9cfb60f</td>\n",
       "      <td>daww match background colour im seemingly stuc...</td>\n",
       "      <td>0</td>\n",
       "      <td>0</td>\n",
       "      <td>0</td>\n",
       "      <td>0</td>\n",
       "      <td>0</td>\n",
       "      <td>0</td>\n",
       "    </tr>\n",
       "    <tr>\n",
       "      <th>2</th>\n",
       "      <td>2</td>\n",
       "      <td>000113f07ec002fd</td>\n",
       "      <td>hey man im really trying edit war just this gu...</td>\n",
       "      <td>0</td>\n",
       "      <td>0</td>\n",
       "      <td>0</td>\n",
       "      <td>0</td>\n",
       "      <td>0</td>\n",
       "      <td>0</td>\n",
       "    </tr>\n",
       "    <tr>\n",
       "      <th>3</th>\n",
       "      <td>3</td>\n",
       "      <td>0001b41b1c6bb37e</td>\n",
       "      <td>cant make real suggestion improvement wondered...</td>\n",
       "      <td>0</td>\n",
       "      <td>0</td>\n",
       "      <td>0</td>\n",
       "      <td>0</td>\n",
       "      <td>0</td>\n",
       "      <td>0</td>\n",
       "    </tr>\n",
       "    <tr>\n",
       "      <th>4</th>\n",
       "      <td>4</td>\n",
       "      <td>0001d958c54c6e35</td>\n",
       "      <td>sir my hero chance remember page thats</td>\n",
       "      <td>0</td>\n",
       "      <td>0</td>\n",
       "      <td>0</td>\n",
       "      <td>0</td>\n",
       "      <td>0</td>\n",
       "      <td>0</td>\n",
       "    </tr>\n",
       "  </tbody>\n",
       "</table>\n",
       "</div>"
      ],
      "text/plain": [
       "   Unnamed: 0                id  \\\n",
       "0           0  0000997932d777bf   \n",
       "1           1  000103f0d9cfb60f   \n",
       "2           2  000113f07ec002fd   \n",
       "3           3  0001b41b1c6bb37e   \n",
       "4           4  0001d958c54c6e35   \n",
       "\n",
       "                                        comment_text  toxic  severe_toxic  \\\n",
       "0  explanation edits made my username hardcore me...      0             0   \n",
       "1  daww match background colour im seemingly stuc...      0             0   \n",
       "2  hey man im really trying edit war just this gu...      0             0   \n",
       "3  cant make real suggestion improvement wondered...      0             0   \n",
       "4             sir my hero chance remember page thats      0             0   \n",
       "\n",
       "   obscene  threat  insult  identity_hate  \n",
       "0        0       0       0              0  \n",
       "1        0       0       0              0  \n",
       "2        0       0       0              0  \n",
       "3        0       0       0              0  \n",
       "4        0       0       0              0  "
      ]
     },
     "execution_count": 3,
     "metadata": {},
     "output_type": "execute_result"
    }
   ],
   "source": [
    "final_data.head()"
   ]
  },
  {
   "cell_type": "code",
   "execution_count": 4,
   "id": "0082ee69",
   "metadata": {},
   "outputs": [
    {
     "data": {
      "text/plain": [
       "(159571, 9)"
      ]
     },
     "execution_count": 4,
     "metadata": {},
     "output_type": "execute_result"
    }
   ],
   "source": [
    "final_data.shape"
   ]
  },
  {
   "cell_type": "code",
   "execution_count": 5,
   "id": "e7c0a07a",
   "metadata": {},
   "outputs": [],
   "source": [
    "final_data.dropna(inplace=True)\n",
    "final_data.drop_duplicates(inplace=True)"
   ]
  },
  {
   "cell_type": "code",
   "execution_count": 6,
   "id": "08fafe1c",
   "metadata": {},
   "outputs": [
    {
     "data": {
      "text/plain": [
       "(159505, 9)"
      ]
     },
     "execution_count": 6,
     "metadata": {},
     "output_type": "execute_result"
    }
   ],
   "source": [
    "final_data.shape"
   ]
  },
  {
   "cell_type": "markdown",
   "id": "7cb109ad",
   "metadata": {},
   "source": [
    "# TF-IDF "
   ]
  },
  {
   "cell_type": "code",
   "execution_count": 7,
   "id": "def80192",
   "metadata": {},
   "outputs": [],
   "source": [
    "vectorizer=TfidfVectorizer()\n",
    "vectors=vectorizer.fit_transform(final_data['comment_text'])"
   ]
  },
  {
   "cell_type": "code",
   "execution_count": 8,
   "id": "a962434f",
   "metadata": {},
   "outputs": [
    {
     "name": "stdout",
     "output_type": "stream",
     "text": [
      "  (0, 153742)\t0.24477278623820795\n",
      "  (0, 88075)\t0.10722717740438868\n",
      "  (0, 165778)\t0.12920730386694138\n",
      "  (0, 133851)\t0.08348595391838357\n",
      "  (0, 177672)\t0.09281670285477557\n",
      "  (0, 181874)\t0.16218763217228369\n",
      "  (0, 183310)\t0.10573173630007701\n",
      "  (0, 152256)\t0.14428693157495856\n",
      "  (0, 49631)\t0.09760952121336333\n",
      "  (0, 139742)\t0.09460226876985875\n",
      "  (0, 59477)\t0.23873602148866632\n",
      "  (0, 49378)\t0.30442415538591017\n",
      "  (0, 211685)\t0.2049117229862254\n",
      "  (0, 124334)\t0.12736058685865229\n",
      "  (0, 199605)\t0.23494802383606872\n",
      "  (0, 67749)\t0.24010612870159756\n",
      "  (0, 168567)\t0.12823114516758444\n",
      "  (0, 32797)\t0.2705859814999839\n",
      "  (0, 197060)\t0.14584923581167183\n",
      "  (0, 202050)\t0.21914461647199168\n",
      "  (0, 154009)\t0.15655439348534322\n",
      "  (0, 60208)\t0.19176433459488154\n",
      "  (0, 115413)\t0.30897212420231773\n",
      "  (0, 74745)\t0.269157356028249\n",
      "  (0, 195343)\t0.18629783500731534\n",
      "  :\t:\n",
      "  (159503, 199888)\t0.1991024945718654\n",
      "  (159503, 170196)\t0.3159683184511076\n",
      "  (159503, 43903)\t0.2539782664517929\n",
      "  (159503, 75378)\t0.1722202643675553\n",
      "  (159503, 94604)\t0.3068294836091296\n",
      "  (159503, 62993)\t0.2345146767929253\n",
      "  (159503, 183188)\t0.1775207319786632\n",
      "  (159503, 183310)\t0.09995840583133002\n",
      "  (159504, 76335)\t0.2552107218038759\n",
      "  (159504, 154277)\t0.2612949917069968\n",
      "  (159504, 87183)\t0.3774119985762853\n",
      "  (159504, 100691)\t0.1960189211388735\n",
      "  (159504, 14099)\t0.4126248976802375\n",
      "  (159504, 34678)\t0.2099086924622409\n",
      "  (159504, 154828)\t0.15726885900884446\n",
      "  (159504, 191614)\t0.1803829970510286\n",
      "  (159504, 14868)\t0.3952036723556309\n",
      "  (159504, 25918)\t0.21194122712618166\n",
      "  (159504, 7156)\t0.13213181637263338\n",
      "  (159504, 70219)\t0.3024080750282627\n",
      "  (159504, 75378)\t0.11196504374531047\n",
      "  (159504, 184174)\t0.12789117826028387\n",
      "  (159504, 92190)\t0.19033045283530653\n",
      "  (159504, 149661)\t0.15686718305202604\n",
      "  (159504, 49631)\t0.11998703948043296\n"
     ]
    }
   ],
   "source": [
    "print(vectors)"
   ]
  },
  {
   "cell_type": "code",
   "execution_count": 9,
   "id": "46f1a2e4",
   "metadata": {},
   "outputs": [],
   "source": [
    "X_train,X_test,Y_train,Y_test=model_selection.train_test_split(vectors,final_data['toxic'],test_size=0.3)"
   ]
  },
  {
   "cell_type": "code",
   "execution_count": 10,
   "id": "b42429a4",
   "metadata": {},
   "outputs": [],
   "source": [
    "from sklearn.linear_model import LogisticRegression"
   ]
  },
  {
   "cell_type": "code",
   "execution_count": 11,
   "id": "d29198a6",
   "metadata": {},
   "outputs": [
    {
     "data": {
      "text/plain": [
       "LogisticRegression(max_iter=1000)"
      ]
     },
     "execution_count": 11,
     "metadata": {},
     "output_type": "execute_result"
    }
   ],
   "source": [
    "model=LogisticRegression(max_iter=1000)\n",
    "model.fit(X_train,Y_train)"
   ]
  },
  {
   "cell_type": "code",
   "execution_count": 12,
   "id": "73c2bbb2",
   "metadata": {},
   "outputs": [],
   "source": [
    "X_test_predication=model.predict(X_test)"
   ]
  },
  {
   "cell_type": "code",
   "execution_count": 13,
   "id": "b50328f0",
   "metadata": {},
   "outputs": [
    {
     "data": {
      "text/plain": [
       "0.9549653097049235"
      ]
     },
     "execution_count": 13,
     "metadata": {},
     "output_type": "execute_result"
    }
   ],
   "source": [
    "accuracy_score(X_test_predication,Y_test)"
   ]
  },
  {
   "cell_type": "code",
   "execution_count": 14,
   "id": "5a82eeec",
   "metadata": {},
   "outputs": [
    {
     "data": {
      "text/plain": [
       "0.7049157880323155"
      ]
     },
     "execution_count": 14,
     "metadata": {},
     "output_type": "execute_result"
    }
   ],
   "source": [
    "f1_score(X_test_predication,Y_test)"
   ]
  },
  {
   "cell_type": "code",
   "execution_count": 15,
   "id": "b5fd9850",
   "metadata": {},
   "outputs": [
    {
     "name": "stdout",
     "output_type": "stream",
     "text": [
      "              precision    recall  f1-score   support\n",
      "\n",
      "       toxic       0.99      0.96      0.98     45024\n",
      "    non-toix       0.58      0.91      0.70      2828\n",
      "\n",
      "    accuracy                           0.95     47852\n",
      "   macro avg       0.78      0.93      0.84     47852\n",
      "weighted avg       0.97      0.95      0.96     47852\n",
      "\n"
     ]
    }
   ],
   "source": [
    "print(classification_report(X_test_predication,Y_test, target_names=['toxic','non-toix']))"
   ]
  },
  {
   "cell_type": "code",
   "execution_count": 16,
   "id": "bad430b5",
   "metadata": {},
   "outputs": [],
   "source": [
    "stop_words=stopwords.words('english')\n",
    "lemmatizer=WordNetLemmatizer()"
   ]
  },
  {
   "cell_type": "code",
   "execution_count": 17,
   "id": "9882a756",
   "metadata": {},
   "outputs": [],
   "source": [
    "def predict_toxicity(text):\n",
    "    sentence=re.sub(r'[^\\w\\s]','',text)\n",
    "    sentence=re.sub(r'[0-9]+','',sentence)\n",
    "    sentence=nltk.word_tokenize(sentence)\n",
    "    for word in sentence:\n",
    "        if word in stop_words:\n",
    "            sentence.remove(word)\n",
    "    lst=[]\n",
    "    for word in sentence:\n",
    "        lst.append(lemmatizer.lemmatize(word))\n",
    "    lst=' '.join(lst)\n",
    "    result=model.predict(vectorizer.transform([lst]))\n",
    "    if result==1:\n",
    "        print('toxic')\n",
    "    else:\n",
    "        print('non-toxic')"
   ]
  },
  {
   "cell_type": "code",
   "execution_count": 22,
   "id": "43405318",
   "metadata": {},
   "outputs": [
    {
     "name": "stdout",
     "output_type": "stream",
     "text": [
      "enter a text to predict whether its toxic or non-toxic : she is bitch beacuse she cant even cook\n",
      "toxic\n"
     ]
    }
   ],
   "source": [
    "text=input('enter a text to predict whether its toxic or non-toxic : ')\n",
    "predict_toxicity(text)"
   ]
  }
 ],
 "metadata": {
  "kernelspec": {
   "display_name": "Python 3 (ipykernel)",
   "language": "python",
   "name": "python3"
  },
  "language_info": {
   "codemirror_mode": {
    "name": "ipython",
    "version": 3
   },
   "file_extension": ".py",
   "mimetype": "text/x-python",
   "name": "python",
   "nbconvert_exporter": "python",
   "pygments_lexer": "ipython3",
   "version": "3.9.12"
  }
 },
 "nbformat": 4,
 "nbformat_minor": 5
}
